{
 "cells": [
  {
   "cell_type": "code",
   "execution_count": 9,
   "id": "e13d9da6",
   "metadata": {},
   "outputs": [
    {
     "data": {
      "image/png": "[encoded data removed]",
      "text/plain": [
       "<Figure size 432x288 with 1 Axes>"
      ]
     },
     "metadata": {
      "needs_background": "light"
     },
     "output_type": "display_data"
    },
    {
     "name": "stdout",
     "output_type": "stream",
     "text": [
      "1.0\n"
     ]
    }
   ],
   "source": [
    "from sklearn.svm import SVC\n",
    "import matplotlib.pyplot as plt\n",
    "import numpy as np\n",
    "from itertools import product\n",
    "\n",
    "#Create a variable named data that is a list that contains the four possible inputs to an AND gate.\n",
    "\n",
    "\n",
    "data = [[0, 0], [0, 1], [1, 0], [1, 1]]\n",
    "labels = [0, 0, 0, 1]\n",
    "\n",
    "plt.scatter([point[0] for point in data], [point[1] for point in data], c = labels) \n",
    "#The third parameter \"c = labels\" will make the points with label 1 a different color than points with label 0.\n",
    "plt.show()\n",
    "\n",
    "#Why is this data linearly separable?\n",
    "\n",
    "#Let’s build a perceptron to learn AND.\n",
    "\n",
    "classifier = SVC(random_state=42)\n",
    "classifier.fit(data, labels)\n",
    "print(classifier.score(data, labels))\n",
    "\n",
    "#Note that it is pretty unusual to train and test on the same dataset. In this case, since there are only four possible inputs to AND, we’re stuck training on every possible input and testing on those same points.\n",
    "\n",
    "\n",
    "#Your perceptron should have 100% accuracy! You just taught it an AND gate!\n"
   ]
  },
  {
   "cell_type": "code",
   "execution_count": 10,
   "id": "b552baee",
   "metadata": {},
   "outputs": [
    {
     "data": {
      "image/png": "[encoded data removed]",
      "text/plain": [
       "<Figure size 432x288 with 1 Axes>"
      ]
     },
     "metadata": {
      "needs_background": "light"
     },
     "output_type": "display_data"
    },
    {
     "name": "stdout",
     "output_type": "stream",
     "text": [
      "1.0\n"
     ]
    }
   ],
   "source": [
    "#Let’s change the labels so your data now represents an XOR gate. The label should be a 1 only if one of the inputs is a 1. What is the accuracy of the perceptron now? Is the data linearly separable?\n",
    "\n",
    "\n",
    "\n",
    "data = [[0, 0], [0, 1], [1, 0], [1, 1]]\n",
    "labels = [0, 1, 1, 0]\n",
    "\n",
    "plt.scatter([point[0] for point in data], [point[1] for point in data], c = labels)\n",
    "plt.show()\n",
    "classifier = SVC(random_state=42)\n",
    "\n",
    "classifier.fit(data, labels)\n",
    "print(classifier.score(data, labels))"
   ]
  },
  {
   "cell_type": "code",
   "execution_count": 11,
   "id": "d7101ed4",
   "metadata": {},
   "outputs": [
    {
     "data": {
      "image/png": "[encoded data removed]",
      "text/plain": [
       "<Figure size 432x288 with 1 Axes>"
      ]
     },
     "metadata": {
      "needs_background": "light"
     },
     "output_type": "display_data"
    },
    {
     "name": "stdout",
     "output_type": "stream",
     "text": [
      "1.0\n"
     ]
    }
   ],
   "source": [
    "#Try changing the data to represent an OR gate. \n",
    "\n",
    "\n",
    "data = [[0, 0], [0, 1], [1, 0], [1, 1]]\n",
    "labels = [0, 1, 1, 1]\n",
    "\n",
    "plt.scatter([point[0] for point in data], [point[1] for point in data], c = labels)\n",
    "plt.show()\n",
    "\n",
    "classifier = SVC(random_state=42)\n",
    "classifier.fit(data, labels)\n",
    "print(classifier.score(data, labels))"
   ]
  },
  {
   "cell_type": "code",
   "execution_count": 12,
   "id": "fc651968",
   "metadata": {},
   "outputs": [
    {
     "data": {
      "image/png": "[encoded data removed]",
      "text/plain": [
       "<Figure size 432x288 with 1 Axes>"
      ]
     },
     "metadata": {
      "needs_background": "light"
     },
     "output_type": "display_data"
    },
    {
     "name": "stdout",
     "output_type": "stream",
     "text": [
      "1.0\n"
     ]
    }
   ],
   "source": [
    "#We know the perceptron has been trained correctly, but let’s try to visualize what decision boundary it is making. Reset your labels to be representing an AND gate.\n",
    "\n",
    "data = [[0, 0], [0, 1], [1, 0], [1, 1]]\n",
    "labels = [0, 0, 0, 1]\n",
    "\n",
    "plt.scatter([point[0] for point in data], [point[1] for point in data], c = labels)\n",
    "plt.show()\n",
    "\n",
    "classifier = SVC(random_state=42)\n",
    "classifier.fit(data, labels)\n",
    "print(classifier.score(data, labels))\n",
    "\n",
    "#Let’s first investigate the classifier’s .decision_function() method. Given a list of points, this method returns the distance those points are from the decision boundary. The closer the number is to 0, the closer that point is to the decision boundary."
   ]
  },
  {
   "cell_type": "code",
   "execution_count": 13,
   "id": "e599e231",
   "metadata": {},
   "outputs": [
    {
     "name": "stdout",
     "output_type": "stream",
     "text": [
      "[-0.99968463  0.18517905 -0.70370524]\n"
     ]
    }
   ],
   "source": [
    "#A decision boundary is the line that determines whether the output should be a 1 or a 0. Points that fall on one side of the line will be a 0 and points on the other side will be a 1.\n",
    "\n",
    "print(classifier.decision_function([[0, 0], [1, 1], [0.5, 0.5]]))\n",
    "\n",
    "#If your data is representing an AND gate, you should see that the point [1, 1] is closer to the decision boundary than [0, 0]. The point at [0.5, 0.5] is pretty close to the decision boundary as well.\n",
    "\n",
    "\n",
    "#Even though an input like [0.5, 0.5] isn’t a real input to an AND logic gate, we can still check to see how far it is from the decision boundary.\n",
    "\n",
    "#We could also do this to the point [0, 0.1], [0, 0.2] and so on. If we do this for a grid of points, we can make a heat map that reveals the decision boundary."
   ]
  },
  {
   "cell_type": "code",
   "execution_count": 6,
   "id": "0954e766",
   "metadata": {},
   "outputs": [
    {
     "name": "stderr",
     "output_type": "stream",
     "text": [
      "C:\\Users\\Public\\Documents\\Wondershare\\CreatorTemp/ipykernel_9156/3038993561.py:8: MatplotlibDeprecationWarning: shading='flat' when X and Y have the same dimensions as C is deprecated since 3.3.  Either specify the corners of the quadrilaterals with X and Y, or pass shading='auto', 'nearest' or 'gouraud', or set rcParams['pcolor.shading'].  This will become an error two minor releases later.\n",
      "  heatmap = plt.pcolormesh(x_values, y_values, distance_matrix)\n"
     ]
    },
    {
     "data": {
      "image/png": "[encoded data removed]",
      "text/plain": [
       "<Figure size 864x504 with 2 Axes>"
      ]
     },
     "metadata": {
      "needs_background": "light"
     },
     "output_type": "display_data"
    }
   ],
   "source": [
    "plt.figure(figsize = (12,7))\n",
    "x_values = np.linspace(0, 1, 100)\n",
    "y_values = np.linspace(0, 1, 100)\n",
    "point_grid = list(product(x_values, y_values))\n",
    "distances = classifier.decision_function(point_grid)\n",
    "abs_distances = [abs(i) for i in distances]\n",
    "distance_matrix = np.reshape(abs_distances, (100,100))\n",
    "heatmap = plt.pcolormesh(x_values, y_values, distance_matrix)\n",
    "plt.colorbar(heatmap)\n",
    "plt.show()\n",
    "#You should see a purple line where the distances are 0. That’s the decision boundary!"
   ]
  },
  {
   "cell_type": "code",
   "execution_count": 14,
   "id": "4c6e7c4f",
   "metadata": {},
   "outputs": [
    {
     "data": {
      "image/png": "[encoded data removed]",
      "text/plain": [
       "<Figure size 432x288 with 1 Axes>"
      ]
     },
     "metadata": {
      "needs_background": "light"
     },
     "output_type": "display_data"
    },
    {
     "name": "stdout",
     "output_type": "stream",
     "text": [
      "1.0\n"
     ]
    }
   ],
   "source": [
    "#Universal gate: nand gate\n",
    "\n",
    "data = [[0, 0], [0, 1], [1, 0], [1, 1]]\n",
    "labels = [1, 1, 1, 0]\n",
    "\n",
    "plt.scatter([point[0] for point in data], [point[1] for point in data], c = labels)\n",
    "plt.show()\n",
    "\n",
    "classifier = SVC(random_state=42)\n",
    "classifier.fit(data, labels)\n",
    "print(classifier.score(data, labels))"
   ]
  },
  {
   "cell_type": "code",
   "execution_count": 15,
   "id": "9609ab0e",
   "metadata": {},
   "outputs": [
    {
     "data": {
      "image/png": "[encoded data removed]",
      "text/plain": [
       "<Figure size 432x288 with 1 Axes>"
      ]
     },
     "metadata": {
      "needs_background": "light"
     },
     "output_type": "display_data"
    },
    {
     "name": "stdout",
     "output_type": "stream",
     "text": [
      "1.0\n"
     ]
    }
   ],
   "source": [
    "#Universal gate: nor gate\n",
    "\n",
    "data = [[0, 0], [0, 1], [1, 0], [1, 1]]\n",
    "labels = [1, 0, 0, 0]\n",
    "\n",
    "plt.scatter([point[0] for point in data], [point[1] for point in data], c = labels)\n",
    "plt.show()\n",
    "\n",
    "classifier = SVC(random_state=42)\n",
    "classifier.fit(data, labels)\n",
    "print(classifier.score(data, labels))"
   ]
  },
  {
   "cell_type": "code",
   "execution_count": 16,
   "id": "bc76053c",
   "metadata": {},
   "outputs": [
    {
     "data": {
      "image/png": "[encoded data removed]",
      "text/plain": [
       "<Figure size 432x288 with 1 Axes>"
      ]
     },
     "metadata": {
      "needs_background": "light"
     },
     "output_type": "display_data"
    },
    {
     "name": "stdout",
     "output_type": "stream",
     "text": [
      "1.0\n"
     ]
    }
   ],
   "source": [
    "#Universal gate: xor gate\n",
    "\n",
    "data = [[0, 0], [0, 1], [1, 0], [1, 1]]\n",
    "labels = [0, 1, 1, 0]\n",
    "\n",
    "plt.scatter([point[0] for point in data], [point[1] for point in data], c = labels)\n",
    "plt.show()\n",
    "\n",
    "classifier = SVC(random_state=42)\n",
    "classifier.fit(data, labels)\n",
    "print(classifier.score(data, labels))"
   ]
  },
  {
   "cell_type": "code",
   "execution_count": null,
   "id": "74f03b28",
   "metadata": {},
   "outputs": [],
   "source": []
  }
 ],
 "metadata": {
  "kernelspec": {
   "display_name": "Python 3 (ipykernel)",
   "language": "python",
   "name": "python3"
  },
  "language_info": {
   "codemirror_mode": {
    "name": "ipython",
    "version": 3
   },
   "file_extension": ".py",
   "mimetype": "text/x-python",
   "name": "python",
   "nbconvert_exporter": "python",
   "pygments_lexer": "ipython3",
   "version": "3.8.11"
  }
 },
 "nbformat": 4,
 "nbformat_minor": 5
}
