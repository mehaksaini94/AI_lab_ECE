{
 "cells": [
  {
   "cell_type": "code",
   "execution_count": 32,
   "id": "d026b542",
   "metadata": {},
   "outputs": [],
   "source": [
    "import numpy as np\n",
    "import matplotlib.pyplot as plt\n",
    "from sklearn.datasets import load_digits\n",
    "data = load_digits()\n",
    "\n",
    "RANDOM_SEED = 42"
   ]
  },
  {
   "cell_type": "code",
   "execution_count": 33,
   "id": "7706d976",
   "metadata": {},
   "outputs": [
    {
     "name": "stdout",
     "output_type": "stream",
     "text": [
      "Dimension of X is (1797, 64)\n",
      "No. of samples in X are 1797\n",
      "Dimension of each sample in X is 64\n"
     ]
    }
   ],
   "source": [
    "X=data['data']\n",
    "print(f'Dimension of X is {X.shape}')\n",
    "print(f'No. of samples in X are {X.shape[0]}')\n",
    "print(f'Dimension of each sample in X is {X.shape[1]}')"
   ]
  },
  {
   "cell_type": "code",
   "execution_count": 34,
   "id": "25beffce",
   "metadata": {},
   "outputs": [
    {
     "name": "stdout",
     "output_type": "stream",
     "text": [
      "Dimension of y is (1797,)\n"
     ]
    }
   ],
   "source": [
    "y=data['target']\n",
    "print(f'Dimension of y is {y.shape}')\n",
    "\n",
    "#Checking if we have as many labels as samples\n",
    "assert X.shape[0]==y.shape[0]"
   ]
  },
  {
   "cell_type": "code",
   "execution_count": 35,
   "id": "5f857252",
   "metadata": {},
   "outputs": [
    {
     "name": "stdout",
     "output_type": "stream",
     "text": [
      "The unique labels in the dataset are [0 1 2 3 4 5 6 7 8 9]\n"
     ]
    }
   ],
   "source": [
    "print(f'The unique labels in the dataset are {np.unique(y)}')\n"
   ]
  },
  {
   "cell_type": "code",
   "execution_count": 36,
   "id": "0199b862",
   "metadata": {},
   "outputs": [],
   "source": [
    "X_images = X.reshape(X.shape[0], 8, 8)\n"
   ]
  },
  {
   "cell_type": "code",
   "execution_count": 37,
   "id": "e2dda85c",
   "metadata": {},
   "outputs": [
    {
     "data": {
      "image/png": "[encoded data removed]",
      "text/plain": [
       "<Figure size 1008x432 with 100 Axes>"
      ]
     },
     "metadata": {},
     "output_type": "display_data"
    }
   ],
   "source": [
    "plt.rcParams['figure.figsize'] = 14, 6\n",
    "import random\n",
    "random_idx = random.sample(range(0, X_images.shape[0]), 100)\n",
    "for idx in range(len(random_idx)):\n",
    "    plt.subplot(10,10,idx+1)\n",
    "    plt.imshow(X_images[idx],cmap='gray')\n",
    "    plt.xticks([])\n",
    "    plt.yticks([])"
   ]
  },
  {
   "cell_type": "code",
   "execution_count": 38,
   "id": "de1258bb",
   "metadata": {},
   "outputs": [
    {
     "data": {
      "text/plain": [
       "Text(0, 0.5, 'Number of entries')"
      ]
     },
     "execution_count": 38,
     "metadata": {},
     "output_type": "execute_result"
    },
    {
     "data": {
      "image/png": "[encoded data removed]",
      "text/plain": [
       "<Figure size 1008x432 with 1 Axes>"
      ]
     },
     "metadata": {
      "needs_background": "light"
     },
     "output_type": "display_data"
    }
   ],
   "source": [
    "count={}\n",
    "\n",
    "for val in np.unique(y):\n",
    "    count[val]=0\n",
    "for val in y:\n",
    "    count[val]+=1\n",
    "    \n",
    "plt.bar(count.keys(),count.values())\n",
    "plt.xticks(range(len(count)),list(count.keys()))\n",
    "plt.xlabel('Value of digit')\n",
    "plt.ylabel('Number of entries')"
   ]
  },
  {
   "cell_type": "code",
   "execution_count": 40,
   "id": "4a4e4a82",
   "metadata": {},
   "outputs": [],
   "source": [
    "from sklearn.model_selection import train_test_split\n",
    "X_train, X_test, y_train, y_test = train_test_split(X, y, random_state=RANDOM_SEED)"
   ]
  },
  {
   "cell_type": "code",
   "execution_count": 41,
   "id": "de789fb6",
   "metadata": {},
   "outputs": [
    {
     "data": {
      "text/plain": [
       "0.9711111111111111"
      ]
     },
     "execution_count": 41,
     "metadata": {},
     "output_type": "execute_result"
    }
   ],
   "source": [
    "from sklearn.neural_network import MLPClassifier\n",
    "clf = MLPClassifier(random_state=RANDOM_SEED, max_iter=300).fit(X_train, y_train)\n",
    "clf.score(X_test, y_test)"
   ]
  },
  {
   "cell_type": "code",
   "execution_count": 42,
   "id": "626c229c",
   "metadata": {},
   "outputs": [
    {
     "data": {
      "text/plain": [
       "0.9488888888888889"
      ]
     },
     "execution_count": 42,
     "metadata": {},
     "output_type": "execute_result"
    }
   ],
   "source": [
    "from sklearn.linear_model import Perceptron\n",
    "clf = Perceptron(random_state=RANDOM_SEED).fit(X_train, y_train)\n",
    "clf.score(X_test, y_test)"
   ]
  }
 ],
 "metadata": {
  "kernelspec": {
   "display_name": "Python 3 (ipykernel)",
   "language": "python",
   "name": "python3"
  },
  "language_info": {
   "codemirror_mode": {
    "name": "ipython",
    "version": 3
   },
   "file_extension": ".py",
   "mimetype": "text/x-python",
   "name": "python",
   "nbconvert_exporter": "python",
   "pygments_lexer": "ipython3",
   "version": "3.8.11"
  }
 },
 "nbformat": 4,
 "nbformat_minor": 5
}
